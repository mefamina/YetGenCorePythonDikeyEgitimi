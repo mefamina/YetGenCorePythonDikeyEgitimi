{
 "cells": [
  {
   "attachments": {},
   "cell_type": "markdown",
   "metadata": {},
   "source": [
    "# Dosya Okuma İşlemleri"
   ]
  },
  {
   "cell_type": "code",
   "execution_count": 7,
   "metadata": {},
   "outputs": [
    {
     "name": "stdout",
     "output_type": "stream",
     "text": [
      "<_io.TextIOWrapper name='bilgiler.txt' mode='r' encoding='cp1254'>\n"
     ]
    }
   ],
   "source": [
    "f = open(\"bilgiler.txt\")\n",
    "print(f)"
   ]
  },
  {
   "cell_type": "code",
   "execution_count": 31,
   "metadata": {},
   "outputs": [],
   "source": [
    "try:\n",
    "    file = open(\"bilgiler.txt\", \"r\", encoding=\"utf-8\")\n",
    "except:\n",
    "    print(\"Böyle bir dosya bulunmuyor.\")\n"
   ]
  },
  {
   "cell_type": "code",
   "execution_count": 30,
   "metadata": {},
   "outputs": [
    {
     "name": "stdout",
     "output_type": "stream",
     "text": [
      "Aristoteles\n",
      "\n",
      "Spinoza\n",
      "\n",
      "Nietszche\n",
      "\n",
      "Marcus Aurelius\n",
      "\n",
      "\n",
      "\n"
     ]
    }
   ],
   "source": [
    "file = open(\"bilgiler.txt\", \"r\", encoding= \"utf-8\")\n",
    "for i in file:\n",
    "    print(i)\n",
    "file.close()\n"
   ]
  },
  {
   "cell_type": "code",
   "execution_count": 29,
   "metadata": {},
   "outputs": [
    {
     "name": "stdout",
     "output_type": "stream",
     "text": [
      "Aristoteles\n",
      "Spinoza\n",
      "Nietszche\n",
      "Marcus Aurelius\n",
      "\n",
      "\n",
      "Aristoteles\n",
      "Spinoza\n",
      "Nietszche\n",
      "Marcus Aurelius\n",
      "\n",
      "\n"
     ]
    }
   ],
   "source": [
    "file = open(\"bilgiler.txt\", \"r\", encoding=\"utf-8\")\n",
    "icerik = file.read()\n",
    "print(icerik)\n",
    "icerik2 = file.read()\n",
    "print(icerik)\n",
    "\n"
   ]
  },
  {
   "cell_type": "code",
   "execution_count": 34,
   "metadata": {},
   "outputs": [
    {
     "name": "stdout",
     "output_type": "stream",
     "text": [
      "Aristoteles\n",
      "\n",
      "Spinoza\n",
      "\n"
     ]
    }
   ],
   "source": [
    "file = open(\"bilgiler.txt\", \"r\", encoding=\"utf-8\")\n",
    "print(file.readline())  #her seferinde tek bir satır okur\n",
    "print(file.readline())"
   ]
  },
  {
   "cell_type": "code",
   "execution_count": 39,
   "metadata": {},
   "outputs": [
    {
     "name": "stdout",
     "output_type": "stream",
     "text": [
      "['Aristoteles\\n', 'Spinoza\\n', 'Nietszche\\n', 'Marcus Aurelius']\n"
     ]
    }
   ],
   "source": [
    "file = open(\"bilgiler.txt\", \"r\", encoding=\"utf-8\")\n",
    "print(file.readlines())  #listeleştirir."
   ]
  },
  {
   "attachments": {},
   "cell_type": "markdown",
   "metadata": {},
   "source": [
    "# Dosya Yazma İşlemleri\n",
    "w: Yazma modu. Mevcut dosyayı siler, yeni dosya oluşturur."
   ]
  },
  {
   "cell_type": "code",
   "execution_count": 40,
   "metadata": {},
   "outputs": [],
   "source": [
    "file = open(\"bilgiler.txt\", \"w\", encoding=\"utf-8\")\n",
    "file.write(\"Aristoteles\\n\")\n",
    "file.close()\n"
   ]
  },
  {
   "attachments": {},
   "cell_type": "markdown",
   "metadata": {},
   "source": [
    "a: silmeden ekleme yapar."
   ]
  },
  {
   "cell_type": "code",
   "execution_count": 41,
   "metadata": {},
   "outputs": [],
   "source": [
    "file = open(\"bilgiler.txt\", \"a\", encoding=\"utf-8\")\n",
    "file.write(\"Nietszche\\n\")\n",
    "file.close()"
   ]
  },
  {
   "attachments": {},
   "cell_type": "markdown",
   "metadata": {},
   "source": [
    "# Dosyaları Otomatik Kapatma"
   ]
  },
  {
   "cell_type": "code",
   "execution_count": 44,
   "metadata": {},
   "outputs": [
    {
     "name": "stdout",
     "output_type": "stream",
     "text": [
      "Aristoteles\n",
      "\n",
      "Nietszche\n",
      "\n"
     ]
    }
   ],
   "source": [
    "with open(\"bilgiler.txt\", \"r\", encoding=\"utf-8\") as file:\n",
    "    for i in file:\n",
    "        print(i)\n"
   ]
  },
  {
   "attachments": {},
   "cell_type": "markdown",
   "metadata": {},
   "source": [
    "# Dosyayı İleri-Geri Sarma\n",
    "-seek() istediğimiz konuma götürür.\n",
    "\n",
    "-tell() olduğumuz konumu söyler."
   ]
  },
  {
   "cell_type": "code",
   "execution_count": 46,
   "metadata": {},
   "outputs": [
    {
     "name": "stdout",
     "output_type": "stream",
     "text": [
      "15\n"
     ]
    }
   ],
   "source": [
    "with open(\"bilgiler.txt\", \"r\", encoding=\"utf-8\") as file:\n",
    "    file.seek(15)\n",
    "    print(file.tell())\n"
   ]
  },
  {
   "attachments": {},
   "cell_type": "markdown",
   "metadata": {},
   "source": [
    "# Dosyanın Sonunda Değişiklik Yapma"
   ]
  },
  {
   "cell_type": "code",
   "execution_count": 48,
   "metadata": {},
   "outputs": [
    {
     "name": "stdout",
     "output_type": "stream",
     "text": [
      "tszche\n",
      "\n"
     ]
    }
   ],
   "source": [
    "with  open(\"bilgiler.txt\", \"r+\", encoding=\"utf-8\") as file:\n",
    "    file.seek(10)\n",
    "    file.write(\"Deneme\")"
   ]
  },
  {
   "cell_type": "code",
   "execution_count": 49,
   "metadata": {},
   "outputs": [
    {
     "name": "stdout",
     "output_type": "stream",
     "text": [
      "AristoteleDenemetszche\n",
      "\n"
     ]
    }
   ],
   "source": [
    "with  open(\"bilgiler.txt\", \"r+\", encoding=\"utf-8\") as file:\n",
    "    print(file.read())\n",
    "    "
   ]
  },
  {
   "attachments": {},
   "cell_type": "markdown",
   "metadata": {},
   "source": [
    "# Nesne Yönelimli Programlama"
   ]
  },
  {
   "cell_type": "code",
   "execution_count": null,
   "metadata": {},
   "outputs": [],
   "source": [
    "class Araba():\n",
    "    model = \"Renault Megane\"\n",
    "    renk = \"Gümüş\"\n",
    "    beygirGucu = 110\n",
    "    silindir = 4\n"
   ]
  },
  {
   "cell_type": "code",
   "execution_count": null,
   "metadata": {},
   "outputs": [],
   "source": [
    "araba1 = Araba()\n",
    "print(araba1.model)"
   ]
  }
 ],
 "metadata": {
  "kernelspec": {
   "display_name": "Python 3",
   "language": "python",
   "name": "python3"
  },
  "language_info": {
   "codemirror_mode": {
    "name": "ipython",
    "version": 3
   },
   "file_extension": ".py",
   "mimetype": "text/x-python",
   "name": "python",
   "nbconvert_exporter": "python",
   "pygments_lexer": "ipython3",
   "version": "3.11.1"
  },
  "orig_nbformat": 4,
  "vscode": {
   "interpreter": {
    "hash": "5fb8260aea7e14130a9a278daee31d071cfe9d59fd8d33c318cc3bcedd6ea3eb"
   }
  }
 },
 "nbformat": 4,
 "nbformat_minor": 2
}
