{
 "cells": [
  {
   "attachments": {},
   "cell_type": "markdown",
   "metadata": {},
   "source": [
    "# Problem 1\n",
    "\n",
    "Şimdi beraber kullanıcılardan aldığımız verileri işleyerek, onlara hem çıktı verecek, hem de aldığımız ve hesapladığımız verileri ileride kullanabilmek adına kaydedeceğiz.\n",
    "\n",
    "\n",
    " **Bu bir veri giriş platformu olacak**\n",
    "\n",
    "\n",
    " * kullanıcıya kaç giriş yapacağını soracağız\n",
    "* kullanıcıdan isim-soyisim, yaş, boy, kilo bilgilerini alarak VKİ hesaplayacağız\n",
    "* ardından bunları sınıflara göre kaydedeceğiz bir dosyaya kaydedeceğiz\n",
    "\n",
    "\n",
    "Sınıflar ise şu şekilde: \n",
    "* 18, 5 kg/m.'nin altında olanlar: Zayıf\n",
    "* 18.5 – 24, 9 kg/m. arasında olanlar: Normal kilolu\n",
    "* 25 – 29, 9 kg/m. arasında olanlar: Fazla kilolu\n",
    "* 30 – 39, 9 kg/m. arasında olanlar: Obez\n",
    "* 40 kg/m.'nin üzerinde olanlar: İleri derecede obez (morbid obez), olarak görülür."
   ]
  },
  {
   "cell_type": "code",
   "execution_count": 13,
   "metadata": {},
   "outputs": [
    {
     "name": "stdout",
     "output_type": "stream",
     "text": [
      "Arda Berk Arduç adlı kişinin yaşı 23.0, boyu 1.83m, kilosu 71.0 kilogramdır ve BKİ=21.20099137030069 ile normal kiloludur.\n",
      "Nisa Akçakoca adlı kişinin yaşı 19.0, boyu 1.7m, kilosu 56.0 kilogramdır ve BKİ=19.377162629757787 ile normal kiloludur.\n",
      "BKİ Programı Sonlandı. Teşekkür ederiz.\n"
     ]
    }
   ],
   "source": [
    "# 1.Problemin Çözümünü Buraya Yazınız\n",
    "class Zayıf():\n",
    "    def __init__(self, isim, yaş, boy, kilo):\n",
    "        self.isim = isim\n",
    "        self.yaş = yaş\n",
    "        self.boy = boy\n",
    "        self.kilo = kilo\n",
    "\n",
    "class NormalKilolu():\n",
    "    def __init__(self, isim, yaş, boy, kilo):\n",
    "        self.isim = isim\n",
    "        self.yaş = yaş\n",
    "        self.boy = boy\n",
    "        self.kilo = kilo\n",
    "\n",
    "class FazlaKilolu():\n",
    "    def __init__(self, isim, yaş, boy, kilo):\n",
    "        self.isim = isim\n",
    "        self.yaş = yaş\n",
    "        self.boy = boy\n",
    "        self.kilo = kilo\n",
    "\n",
    "class Obez():\n",
    "    def __init__(self, isim, yaş, boy, kilo):\n",
    "        self.isim = isim\n",
    "        self.yaş = yaş\n",
    "        self.boy = boy\n",
    "        self.kilo = kilo\n",
    "class İleriObez():\n",
    "    def __init__(self, isim, yaş, boy, kilo):\n",
    "        self.isim = isim\n",
    "        self.yaş = yaş\n",
    "        self.boy = boy\n",
    "        self.kilo = kilo\n",
    "\n",
    "giris = input(\"Kaş giriş yapacaksınız?\")\n",
    "girisSayisi = int(giris)\n",
    "while True:\n",
    "\n",
    "    isim = input(\"İsminizi giriniz\")\n",
    "    yaş = float(input(\"Yaşınızı giriniz\"))\n",
    "    boy = float(input(\"Boyunuzu giriniz\"))\n",
    "    kilo = float(input(\"Kilonuzu giriniz\"))\n",
    "    girisSayisi -=1\n",
    "\n",
    "    vki = kilo/(boy**2)\n",
    "\n",
    "    if vki < 18.5:\n",
    "        birey = Zayıf(isim, yaş, boy, kilo)\n",
    "        print(f\"{birey.isim} adlı kişinin yaşı {birey.yaş}, boyu {birey.boy}m, kilosu {birey.kilo} kilogramdır ve BKİ={vki} ile  zayıftır.\")\n",
    "    elif 18.5 <vki< 24.9:\n",
    "        birey = NormalKilolu(isim, yaş, boy, kilo)\n",
    "        print(f\"{birey.isim} adlı kişinin yaşı {birey.yaş}, boyu {birey.boy}m, kilosu {birey.kilo} kilogramdır ve BKİ={vki} ile normal kiloludur.\")\n",
    "    elif 25 <vki< 29.5:\n",
    "        birey = FazlaKilolu(isim, yaş, boy, kilo)\n",
    "        print(f\"{birey.isim} adlı kişinin yaşı {birey.yaş}, boyu {birey.boy}m, kilosu {birey.kilo} kilogramdır ve BKİ={vki} ile fazla kiloludur.\")\n",
    "    elif 30 <vki< 39.5:\n",
    "        birey = Obez(isim, yaş, boy, kilo)\n",
    "        print(f\"{birey.isim} adlı kişinin yaşı {birey.yaş}, boyu {birey.boy}m, kilosu {birey.kilo} kilogramdır ve BKİ={vki} ile obezdir.\")\n",
    "    elif vki>40:\n",
    "        birey = İleriObez(isim, yaş, boy, kilo)\n",
    "        print(f\"{birey.isim} adlı kişinin yaşı {birey.yaş}, boyu {birey.boy}m, kilosu {birey.kilo} kilogramdır ve BKİ={vki} ile ileri derecede obezdir.\")\n",
    "    if girisSayisi == 0:\n",
    "        print(\"BKİ Programı Sonlandı. Teşekkür ederiz.\")\n",
    "        break"
   ]
  },
  {
   "attachments": {},
   "cell_type": "markdown",
   "metadata": {},
   "source": [
    "# Problem 2\n",
    "**YetBar - Smoothie Bank**\n",
    "---\n",
    "YetBar spor salonunun girişinde bulunan, insansız bir sağlıklı içecek otomatıdır. Kullanıcı çeşitli girdiler smoothie içeceğine koyacağı ürünleri belirleyebilir, fiyat hesaplaması yaptırabilir ya da sadece menüyü görüntüleyebilir.\n",
    "\n",
    "**Projenin Amacı:**\n",
    "\n",
    "*   Birbirini etkileyen ve bir kod içerisinde birden fazla defa başvurulacak fonksiyonların oluşturulup, \"fonksiyonel\" proglamlamak.\n",
    "*   Büyük programları yazarken, yazılımcı olarak yapabileceğimiz hatalardan kaçınmak için kontrol yöntemleri geliştirmek.\n",
    "*   Kullanıcı inputlarını ve yaptığımız hesapları, raporlamak/loglamak amacıyla kaydetmek.\n",
    "\n",
    "**Programdan Beklenen Çıktılar**\n",
    "* Program kullanıcıya temelde 2 farklı işlem yapma imkanı sağlar.\n",
    "> 1. Menüyü görüntüleme\n",
    "> 3. Satın alma\n",
    "* Satın alınan her içecek tarih, fiyat bilgisi ile kaydedilmeli ve her zaman ulaşılabilir olmalıdır.\n",
    "\n",
    "\n"
   ]
  },
  {
   "cell_type": "code",
   "execution_count": null,
   "metadata": {},
   "outputs": [],
   "source": [
    "# 2.Problemin Çözümünü Buraya Yazınız"
   ]
  }
 ],
 "metadata": {
  "kernelspec": {
   "display_name": "Python 3",
   "language": "python",
   "name": "python3"
  },
  "language_info": {
   "codemirror_mode": {
    "name": "ipython",
    "version": 3
   },
   "file_extension": ".py",
   "mimetype": "text/x-python",
   "name": "python",
   "nbconvert_exporter": "python",
   "pygments_lexer": "ipython3",
   "version": "3.11.1"
  },
  "orig_nbformat": 4,
  "vscode": {
   "interpreter": {
    "hash": "5026d2d6e7aaaaba093def813beadff083d8733e4a511af01735cbabd156995d"
   }
  }
 },
 "nbformat": 4,
 "nbformat_minor": 2
}
