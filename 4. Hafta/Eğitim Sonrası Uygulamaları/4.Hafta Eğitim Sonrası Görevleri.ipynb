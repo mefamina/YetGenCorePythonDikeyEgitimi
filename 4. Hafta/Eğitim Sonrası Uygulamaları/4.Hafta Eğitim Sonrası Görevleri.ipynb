{
 "cells": [
  {
   "cell_type": "markdown",
   "metadata": {},
   "source": [
    "# Problem 1\n",
    "`ogrenciler` adında bir sözlük oluşturunuz. Kullanıcıdan döngü yardımıyla 3 öğrenci için veri girmesini isteyerek öğrencilerin sırasıyla okul numarası, isim, soy isim, telefon numarası ve doğum tarihi bilgilerini alınız. Aldığınız öğrenci bilgilerini yine aynı döngü yardımıyla `ogrenciler` adındaki sözlükte saklayınız. Daha sonra öğrenci bilgilerinin bulunduğu sözlük yapısını ekrana bastırınız.\n",
    "\n"
   ]
  },
  {
   "cell_type": "code",
   "execution_count": null,
   "metadata": {},
   "outputs": [],
   "source": []
  },
  {
   "cell_type": "code",
   "execution_count": 2,
   "metadata": {},
   "outputs": [
    {
     "name": "stdout",
     "output_type": "stream",
     "text": [
      "{'Okul Numarası': 'asdgasohd', 'İsim': 'sadaysudgoa', 'Soy İsim': 'asduygahspd', 'Telefon': 'asduyhaspdü', 'Doğum': 'asıduhpasd'}\n",
      "{'Okul Numarası': 'asudıhğsad', 'İsim': 'asduhğasd', 'Soy İsim': 'asdaphsd', 'Telefon': 'asjdhğasd', 'Doğum': 'asdhğasd'}\n",
      "{'Okul Numarası': 'asjdn,', 'İsim': 'asıdasd', 'Soy İsim': 'asdasd', 'Telefon': 'd', 'Doğum': 'sad'}\n"
     ]
    }
   ],
   "source": [
    "# 1.Problemin Çözümünü Buraya Yazınız\n",
    "\n",
    "ogrenciler = {}\n",
    "\n",
    "for i in range(1,4):\n",
    "    okulNo = input(\"Okul Numarası: \")\n",
    "    isim = input(\"İsim: \")\n",
    "    soyİsim= input(\"Soy İsim: \")\n",
    "    telefon= input(\"Telefon: \")\n",
    "    doğum= input(\"Doğum Tarihi: \")\n",
    "\n",
    "    ogrenciler[i]= {\n",
    "        \"Okul Numarası\": okulNo,\n",
    "        \"İsim\": isim,\n",
    "        \"Soy İsim\": soyİsim,\n",
    "        \"Telefon\": telefon,\n",
    "        \"Doğum\": doğum,\n",
    "    } \n",
    "\n",
    "    print(ogrenciler[i])"
   ]
  },
  {
   "cell_type": "markdown",
   "metadata": {},
   "source": [
    "# Problem 2\n",
    "\n",
    "### a - Biraz ısınarak başlayalım!\n",
    "\n",
    "```\n",
    "numbers = [5,10,10,15,15,15,20,20,20,20]\n",
    "```\n",
    "\n",
    "Yukarıda `numbers` adında 10 elemanlı bir liste verilmiştir. Bu listenin her elemanını kontrol eden ve tekrar eden elemanları bir kez olacak şekilde başka bir listeye kopyalayan bir program yazınız. Son olarak oluşturduğunuz listeyi ekrana bastırınız.\n",
    "\n",
    "\n",
    "\n",
    "\n",
    "```\n",
    ">Output\n",
    "[5, 10, 15, 20]\n",
    "```\n"
   ]
  },
  {
   "cell_type": "code",
   "execution_count": 4,
   "metadata": {},
   "outputs": [
    {
     "name": "stdout",
     "output_type": "stream",
     "text": [
      "[5, 10, 15, 20]\n"
     ]
    }
   ],
   "source": [
    "# 2.Problemin a Şıkkının Çözümünü Buraya Yazınız\n",
    "numbers = [5,10,10,15,15,15,20,20,20,20]\n",
    "repeated = []\n",
    "for number in numbers:\n",
    "    if number in repeated:\n",
    "        continue\n",
    "    else:\n",
    "        repeated.append(number)\n",
    "print(repeated)\n"
   ]
  },
  {
   "cell_type": "markdown",
   "metadata": {},
   "source": [
    "### 🌶️ b) Hadi işi biraz daha zorlaştıralım! \n",
    "\n",
    "\n",
    "Şimdiyse senden `numbers` isimli listedeki tekrar eden elemanları `repeatNumbers` adındaki listeye; tekrar etmeyen elemanları `uniqueNumbers`adındaki listeye kopyalayan yazmanı ve listeleri ekrana bastırmanı bekliyoruz\n",
    "\n",
    "```\n",
    ">Output\n",
    "Tekrar Eden Elemanlar: [10, 10, 15, 15, 15, 20, 20, 20, 20]\n",
    "Tekrar Etmeyen Elemanlar: [5]\n",
    "```"
   ]
  },
  {
   "cell_type": "code",
   "execution_count": 5,
   "metadata": {},
   "outputs": [
    {
     "name": "stdout",
     "output_type": "stream",
     "text": [
      "[10, 10, 15, 15, 15, 20, 20, 20, 20]\n",
      "[5]\n"
     ]
    }
   ],
   "source": [
    "# 2.Problemin b Şıkkının Çözümünü Buraya Yazınız\n",
    "numbers = [5,10,10,15,15,15,20,20,20,20]\n",
    "repeatNumbers = []\n",
    "uniqueNumbers = []\n",
    "\n",
    "for number in numbers:\n",
    "    if numbers.count(number)==1:\n",
    "        uniqueNumbers.append(number)\n",
    "    else:\n",
    "        repeatNumbers.append(number)\n",
    "\n",
    "print(repeatNumbers)\n",
    "print(uniqueNumbers)\n",
    "#not\n"
   ]
  },
  {
   "cell_type": "markdown",
   "metadata": {},
   "source": [
    "# Problem 3\n",
    "sn1 = {1,2,3,4,5}\n",
    "\n",
    "sn2 = {4,5,6,7,8}\n",
    "\n",
    " Verilen 2 adet küme için kesişimlerini, farklarını ve birleşimlerini bulunuz. "
   ]
  },
  {
   "cell_type": "code",
   "execution_count": 12,
   "metadata": {},
   "outputs": [
    {
     "name": "stdout",
     "output_type": "stream",
     "text": [
      "{4, 5}\n",
      "{1, 2, 3}\n",
      "{1, 2, 3, 4, 5, 6, 7, 8}\n"
     ]
    }
   ],
   "source": [
    "# 3.Problemin Çözümünü Buraya Yazınız\n",
    "sn1 = {1,2,3,4,5}\n",
    "sn2 = {4,5,6,7,8}\n",
    "\n",
    "kesişim = sn1.intersection(sn2)\n",
    "print(kesişim)\n",
    "\n",
    "fark1= sn1.difference_update(sn2)\n",
    "print(sn1)\n",
    "#fark2= sn2.difference_update(sn1)\n",
    "#print(sn2)\n",
    "\n",
    "birleşim = sn1.union(sn2)\n",
    "print(birleşim)\n",
    "\n"
   ]
  },
  {
   "cell_type": "markdown",
   "metadata": {},
   "source": [
    "# Problem 4\n",
    "\n",
    "Buradaki işlemlerimizin tamamı stringler içindir. Aşağıda verilecek olan metodlar için kendinizin örnek yaratması gerekmektedir. \n",
    "\n",
    "Örneğin `upper` için `string` değişkeni oluştururken` k = \"BAC\"` şeklinde oluşturmayınız. Bunun yerine k değişkenini `k = \"bac`\" şeklinde oluşturmanız `upper` metodundaki değişimi görebilmeniz için daha iyi olacaktır.\n",
    "\n",
    "Bütün metodlardaki değişimin gözle görülür şekilde değişimi beklenmektedir.\n",
    "\n",
    "\n",
    "1- capitalize(), lower(), upper(), swapcase(), title(), replace()\n",
    "\n",
    "2- endswith(), startswith(), find(), index(), count()\n",
    "\n",
    "3- split(), strip(), join(), islower(), isalpha(), isdigit()\n",
    "\n",
    "\n",
    "Yukarıdaki `string` metodlarındaki değişimleri görebildiğimiz bir program yazınız.\n"
   ]
  },
  {
   "cell_type": "code",
   "execution_count": 50,
   "metadata": {},
   "outputs": [
    {
     "name": "stdout",
     "output_type": "stream",
     "text": [
      "     nikomakhos'a, etik      \n",
      "ni̇komakhos'a eti̇k\n",
      "nIkHoMaKhOssss\n",
      "     Nikomakhos'A, Etik      \n",
      "     nikomakhos'a, zort      \n",
      "False\n",
      "False\n",
      "12\n",
      "12\n",
      "2\n",
      "[\"     nikomakhos'a\", ' etik      ']\n",
      "nikomakhos'a, etik\n",
      "A#r#d#a#,# #B#e#r#k#,# #A#r#d#u#ç\n",
      "True\n",
      "False\n",
      "False\n",
      "False\n"
     ]
    }
   ],
   "source": [
    "# 4.Problemin Çözümünü Buraya Yazınız\n",
    "x = \"     nikomakhos'a, etik      \"\n",
    "x1= x.capitalize()\n",
    "print(x1)\n",
    "\n",
    "y = \"NİKOMAKHOS'A ETİK\"\n",
    "y1 = y.lower()\n",
    "print(y1)\n",
    "\n",
    "z = \"NiKhOmAkHoSSSS\"\n",
    "z1 = z.swapcase()\n",
    "print(z1)\n",
    "\n",
    "x2 = x.title()\n",
    "print(x2)\n",
    "\n",
    "x3 = x.replace(\"etik\",\"zort\")\n",
    "print(x3)\n",
    "\n",
    "x4 = x.endswith(\"k\")\n",
    "print(x4)\n",
    "\n",
    "x5 = x.startswith(\"N\")\n",
    "print(x5)\n",
    "\n",
    "x6= x.find(\"h\")\n",
    "print(x6)\n",
    "\n",
    "x7 = x.index(\"h\")\n",
    "print(x7)\n",
    "\n",
    "x8 = x.count(\"a\")\n",
    "print(x8)\n",
    "\n",
    "x9 = x.split(\",\")\n",
    "print(x9)\n",
    "\n",
    "x10 = x.strip()\n",
    "print(x10)\n",
    "\n",
    "a = \"Arda, Berk, Arduç\"\n",
    "a1 = \"#\".join(a)\n",
    "print(a1)\n",
    "\n",
    "x11 = x.islower()\n",
    "print(x11)\n",
    "x12 = x.isupper()\n",
    "print(x12)\n",
    "x13 = x.isalpha()\n",
    "print(x13)\n",
    "x14 = x.isdigit()\n",
    "print(x14)\n",
    "\n"
   ]
  }
 ],
 "metadata": {
  "kernelspec": {
   "display_name": "Python 3.10.5 64-bit",
   "language": "python",
   "name": "python3"
  },
  "language_info": {
   "codemirror_mode": {
    "name": "ipython",
    "version": 3
   },
   "file_extension": ".py",
   "mimetype": "text/x-python",
   "name": "python",
   "nbconvert_exporter": "python",
   "pygments_lexer": "ipython3",
   "version": "3.11.1"
  },
  "orig_nbformat": 4,
  "vscode": {
   "interpreter": {
    "hash": "5026d2d6e7aaaaba093def813beadff083d8733e4a511af01735cbabd156995d"
   }
  }
 },
 "nbformat": 4,
 "nbformat_minor": 2
}
