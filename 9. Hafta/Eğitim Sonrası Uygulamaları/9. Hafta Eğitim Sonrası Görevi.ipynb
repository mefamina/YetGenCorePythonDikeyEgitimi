{
 "cells": [
  {
   "attachments": {},
   "cell_type": "markdown",
   "metadata": {},
   "source": [
    "# Problem 1\n",
    "\n",
    "Kumanda isminde bir sınıf oluşturarak aşağıdaki işlemleri yapmasını sağlayan fonksiyonları sınıf içerisinde yazalım.\n",
    "1. Tv Aç\n",
    "2. Tv Kapat\n",
    "3. Ses Ayarları\n",
    "4. Kanal Ekle\n",
    "5. Kanal Sayısını Öğrenme\n",
    "6. Rastgele Kanala Geçme\n",
    "7. Televizyon Bilgileri\n",
    "\n",
    "\n",
    "Kumandayı kapatmak için q tuşuna basılmalı ve diğer durumlarda hangi işlemi yapmak istediği sorulmalıdır. Her işlemde gerekli fonksiyonunun sınıf içerisinden çağırılması gerekmektedir.\n",
    "\n",
    "random ve time kütüphanesini araştırarak kullanabilirsiniz.\n",
    "\n",
    "Kendi istediğiniz özellikleri eklemekte serbetsiniz."
   ]
  },
  {
   "cell_type": "code",
   "execution_count": 4,
   "metadata": {},
   "outputs": [],
   "source": [
    "import time\n",
    "class Kumanda():\n",
    "    def __init__(self, tv_durum, tv_ses, kanallar):\n",
    "        self.tv_durum = tv_durum\n",
    "        self.tv_ses = tv_ses\n",
    "        self.kanallar = kanallar\n",
    "    def ac_kapa(self):\n",
    "        if self.tv_durum == \"Açık\":\n",
    "            print(\"Televizyon kapanıyor...\")\n",
    "            time.sleep(2)\n",
    "            print(\"Televizyon kapandı.\")\n",
    "            self.tv_durum = \"Kapalı\"\n",
    "        else:\n",
    "            print(\"Televizyon açılıyor...\")\n",
    "            time.sleep(2)\n",
    "            print(\"Televizyon açıldı.\")\n",
    "            self.tv_durum = \"Açık\"\n",
    "    def ses(self):\n",
    "        \n",
    "        while True:\n",
    "            s = input(\"Ses yükseltmek/azaltmak için +/- /// Ses menüsünden çıkmak için 'Çıkış' butonuna basın.\")\n",
    "            if s == \"+\":\n",
    "                self.tv_ses += 1\n",
    "                print(self.tv_ses)\n",
    "            elif s == \"-\":\n",
    "                self.tv_ses -=1\n",
    "                print(self.tv_ses)\n",
    "            elif self.tv_ses == 100:\n",
    "                print(\"Maksimum ses\", self.tv_ses)\n",
    "            elif self.tv_ses == 0:\n",
    "                print(\"Minimum ses\", self.tv_ses)\n",
    "            \n",
    "            if s == \"Çıkış\":\n",
    "                break\n",
    "    def kanal_ekle(self, kanal):\n",
    "        self.kanallar.append(kanal)\n",
    "        print(\"Kanal ekleniyor...\")\n",
    "        time.sleep(2)\n",
    "        print(\"Kanal eklendi!\")\n",
    "    \n",
    "    def bilgi_goster(self):\n",
    "        print(f\"\"\"\n",
    "        ---Kumanda Arayüzüne Hoş Geldiniz---\n",
    "        Televizyon Aktivitesi = {self.tv_durum}\n",
    "        Ses Seviyesi = {self.tv_ses}\n",
    "        Kanal Listesi = {self.kanallar}\"\"\")\n",
    "\n"
   ]
  },
  {
   "cell_type": "code",
   "execution_count": 6,
   "metadata": {},
   "outputs": [
    {
     "name": "stdout",
     "output_type": "stream",
     "text": [
      "\n",
      "        ---Kumanda Arayüzüne Hoş Geldiniz---\n",
      "        Televizyon Aktivitesi = Kapalı\n",
      "        Ses Seviyesi = 15\n",
      "        Kanal Listesi = ['Can Sungur ve Yakın Evren', 'Tarih Obası', 'Karavandaki Adam']\n",
      "Televizyon açılıyor...\n",
      "Televizyon açıldı.\n",
      "16\n",
      "17\n",
      "18\n",
      "19\n",
      "20\n",
      "21\n",
      "22\n",
      "23\n",
      "24\n",
      "25\n",
      "26\n",
      "Kanal ekleniyor...\n",
      "Kanal eklendi!\n",
      "Kanal ekleniyor...\n",
      "Kanal eklendi!\n",
      "\n",
      "        ---Kumanda Arayüzüne Hoş Geldiniz---\n",
      "        Televizyon Aktivitesi = Açık\n",
      "        Ses Seviyesi = 26\n",
      "        Kanal Listesi = ['Can Sungur ve Yakın Evren', 'Tarih Obası', 'Karavandaki Adam', 'Mert Günhan ve Yakın Arkadaşı', 'Ünsal Ünlü']\n"
     ]
    }
   ],
   "source": [
    "tv1 = Kumanda(\"Kapalı\", 15, [\"Can Sungur ve Yakın Evren\", \"Tarih Obası\", \"Karavandaki Adam\"])\n",
    "tv1.bilgi_goster()\n",
    "tv1.ac_kapa()\n",
    "tv1.ses()\n",
    "tv1.kanal_ekle(\"Mert Günhan ve Yakın Arkadaşı\")\n",
    "tv1.kanal_ekle(\"Ünsal Ünlü\")\n",
    "tv1.bilgi_goster()\n",
    "\n"
   ]
  }
 ],
 "metadata": {
  "kernelspec": {
   "display_name": "Python 3",
   "language": "python",
   "name": "python3"
  },
  "language_info": {
   "codemirror_mode": {
    "name": "ipython",
    "version": 3
   },
   "file_extension": ".py",
   "mimetype": "text/x-python",
   "name": "python",
   "nbconvert_exporter": "python",
   "pygments_lexer": "ipython3",
   "version": "3.11.1"
  },
  "orig_nbformat": 4,
  "vscode": {
   "interpreter": {
    "hash": "5026d2d6e7aaaaba093def813beadff083d8733e4a511af01735cbabd156995d"
   }
  }
 },
 "nbformat": 4,
 "nbformat_minor": 2
}
