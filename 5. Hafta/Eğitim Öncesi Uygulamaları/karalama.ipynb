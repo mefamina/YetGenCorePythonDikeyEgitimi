{
 "cells": [
  {
   "cell_type": "code",
   "execution_count": null,
   "metadata": {},
   "outputs": [],
   "source": [
    "#Klasik Yöntem\n",
    "liste = [1,2,3,4,5,6,7,8,9,10]\n",
    "yeniListe = []\n",
    "\n",
    "for i in liste:\n",
    "    yeniListe.append(i**2)\n",
    "print(yeniListe)\n"
   ]
  },
  {
   "cell_type": "code",
   "execution_count": null,
   "metadata": {},
   "outputs": [],
   "source": [
    "liste = [1,2,3,4,5,6,7,8,9,10]\n",
    "yeniListe = [i**2 for i in liste]\n",
    "print(yeniListe)"
   ]
  }
 ],
 "metadata": {
  "kernelspec": {
   "display_name": "Python 3",
   "language": "python",
   "name": "python3"
  },
  "language_info": {
   "name": "python",
   "version": "3.11.1"
  },
  "orig_nbformat": 4
 },
 "nbformat": 4,
 "nbformat_minor": 2
}
