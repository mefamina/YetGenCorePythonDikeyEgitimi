{
 "cells": [
  {
   "attachments": {},
   "cell_type": "markdown",
   "metadata": {},
   "source": [
    "# List Comprehension"
   ]
  },
  {
   "cell_type": "code",
   "execution_count": 2,
   "metadata": {},
   "outputs": [
    {
     "name": "stdout",
     "output_type": "stream",
     "text": [
      "[1, 4, 9, 16, 25, 36, 49, 64, 81, 100]\n"
     ]
    }
   ],
   "source": [
    "#Klasik Yöntem\n",
    "liste = [1,2,3,4,5,6,7,8,9,10]\n",
    "yeniListe = []\n",
    "\n",
    "for i in liste:\n",
    "    yeniListe.append(i**2)\n",
    "print(yeniListe)\n"
   ]
  },
  {
   "cell_type": "code",
   "execution_count": 1,
   "metadata": {},
   "outputs": [
    {
     "name": "stdout",
     "output_type": "stream",
     "text": [
      "[1, 4, 9, 16, 25, 36, 49, 64, 81, 100]\n"
     ]
    }
   ],
   "source": [
    "#List Comprehension\n",
    "liste = [1,2,3,4,5,6,7,8,9,10]\n",
    "yeniListe = [i**2 for i in liste]\n",
    "print(yeniListe)"
   ]
  },
  {
   "cell_type": "code",
   "execution_count": 3,
   "metadata": {},
   "outputs": [
    {
     "name": "stdout",
     "output_type": "stream",
     "text": [
      "[1, 2, 3, 4, 5, 6, 7, 8, 9, 10]\n"
     ]
    }
   ],
   "source": [
    "liste = [[1,2,3],[4,5,6,7],[8,9,10]]\n",
    "liste2 = [x for i in liste for x in i]\n",
    "print(liste2)\n"
   ]
  },
  {
   "cell_type": "code",
   "execution_count": 4,
   "metadata": {},
   "outputs": [
    {
     "name": "stdout",
     "output_type": "stream",
     "text": [
      "[1, 2, 3, 5, 6, 7, 8, 10]\n"
     ]
    }
   ],
   "source": [
    "liste1 = [1,2,3,4,5,6,7,8,9,10]\n",
    "liste2 = [i for i in liste1 if not (i == 4  or i == 9)]\n",
    "\n",
    "print(liste2)\n"
   ]
  },
  {
   "attachments": {},
   "cell_type": "markdown",
   "metadata": {},
   "source": [
    "# Fonksiyonlar"
   ]
  },
  {
   "cell_type": "code",
   "execution_count": 6,
   "metadata": {},
   "outputs": [
    {
     "name": "stdout",
     "output_type": "stream",
     "text": [
      "Hoş geldin  ziyaretçi\n",
      "Hoş geldin  Arda Berk\n"
     ]
    }
   ],
   "source": [
    "def selamla(isim = \"ziyaretçi\"):\n",
    "    print(\"Hoş geldin \", isim)\n",
    "\n",
    "selamla()\n",
    "selamla(\"Arda Berk\")"
   ]
  },
  {
   "cell_type": "code",
   "execution_count": 9,
   "metadata": {},
   "outputs": [
    {
     "name": "stdout",
     "output_type": "stream",
     "text": [
      "Sayıların toplamı:  514\n"
     ]
    }
   ],
   "source": [
    "def toplama(sayı1, sayı2, sayı3):\n",
    "    toplam= sayı1+sayı2+sayı3\n",
    "\n",
    "    print(\"Sayıların toplamı: \", toplam)\n",
    "\n",
    "toplama(323,123,68)"
   ]
  },
  {
   "cell_type": "code",
   "execution_count": 12,
   "metadata": {},
   "outputs": [
    {
     "name": "stdout",
     "output_type": "stream",
     "text": [
      "Sitemize hoş geldin  Arda Berk Arduç\n",
      "Sitemize hoş geldin  Nisanur Akçakoca\n"
     ]
    }
   ],
   "source": [
    "def merhaba(name = \"Arda Berk\", surname = \"Arduç\"):\n",
    "    print(\"Sitemize hoş geldin \", name +\" \"+surname)\n",
    "merhaba()\n",
    "merhaba(\"Nisanur\", \"Akçakoca\")\n"
   ]
  },
  {
   "attachments": {},
   "cell_type": "markdown",
   "metadata": {},
   "source": [
    "# Return"
   ]
  },
  {
   "cell_type": "code",
   "execution_count": 13,
   "metadata": {},
   "outputs": [
    {
     "name": "stdout",
     "output_type": "stream",
     "text": [
      "256.0\n"
     ]
    }
   ],
   "source": [
    "def alanHesapla(a,b):\n",
    "    return(a*b/2)\n",
    "alan = alanHesapla(32,16)\n",
    "print(alan)"
   ]
  },
  {
   "attachments": {},
   "cell_type": "markdown",
   "metadata": {},
   "source": [
    "# *args\n",
    "    -Sınırsız sayıda parametreli fonksiyon oluşturmak için kullanılır.\n",
    "    -isimsiz argümanlardır."
   ]
  },
  {
   "cell_type": "code",
   "execution_count": 14,
   "metadata": {},
   "outputs": [
    {
     "name": "stdout",
     "output_type": "stream",
     "text": [
      "(1, 2, 2, 2, 2, 23, 1, 53, 41, 312, 3, 14, 123, 12, 415, 132, 20)\n"
     ]
    }
   ],
   "source": [
    "def sayılar(*x):\n",
    "    print(x)\n",
    "\n",
    "sayılar(1,2,2,2,2,23,1,53,41,312,3,14,123,12,415,132,20)"
   ]
  },
  {
   "cell_type": "code",
   "execution_count": 15,
   "metadata": {},
   "outputs": [
    {
     "name": "stdout",
     "output_type": "stream",
     "text": [
      "38\n"
     ]
    }
   ],
   "source": [
    "def topla(*x):\n",
    "    toplam = 0\n",
    "    for i in x:\n",
    "        toplam += i\n",
    "    print(toplam)\n",
    "\n",
    "topla(3,4,30,1)"
   ]
  },
  {
   "attachments": {},
   "cell_type": "markdown",
   "metadata": {},
   "source": [
    "# kwargs \n",
    "    - Fonksiyon çağrılırken, anahtar-değer ilişkisi ile çağrılabilir.\n",
    "    - İsimli argümanlardır."
   ]
  },
  {
   "cell_type": "code",
   "execution_count": 16,
   "metadata": {},
   "outputs": [
    {
     "name": "stdout",
     "output_type": "stream",
     "text": [
      "{'adı': 'Arda Berk', 'soyadı': 'Arduç', 'yaşı': '23'}\n"
     ]
    }
   ],
   "source": [
    "def kimlikGoster(**kimlik):\n",
    "    print(kimlik)\n",
    "\n",
    "kimlikGoster(adı = \"Arda Berk\", soyadı = \"Arduç\", yaşı= \"23\")\n"
   ]
  },
  {
   "attachments": {},
   "cell_type": "markdown",
   "metadata": {},
   "source": [
    "# Global Değişkenler\n",
    "    - Bir fonksiyonun içindeki değişken, fonksiyonun dışında çağırılamaz. Bunun için Global ifadesi kullanılır."
   ]
  },
  {
   "cell_type": "code",
   "execution_count": 20,
   "metadata": {},
   "outputs": [
    {
     "name": "stdout",
     "output_type": "stream",
     "text": [
      "6\n",
      "6\n"
     ]
    }
   ],
   "source": [
    "def yazdır():\n",
    "    global x\n",
    "    x=6\n",
    "    print(x)\n",
    "yazdır()    \n",
    "print(x)\n",
    "\n"
   ]
  },
  {
   "cell_type": "code",
   "execution_count": 18,
   "metadata": {},
   "outputs": [
    {
     "name": "stdout",
     "output_type": "stream",
     "text": [
      "5\n"
     ]
    },
    {
     "ename": "NameError",
     "evalue": "name 'x' is not defined",
     "output_type": "error",
     "traceback": [
      "\u001b[1;31m---------------------------------------------------------------------------\u001b[0m",
      "\u001b[1;31mNameError\u001b[0m                                 Traceback (most recent call last)",
      "Cell \u001b[1;32mIn[18], line 5\u001b[0m\n\u001b[0;32m      3\u001b[0m     \u001b[39mprint\u001b[39m(x)\n\u001b[0;32m      4\u001b[0m yazdır()\n\u001b[1;32m----> 5\u001b[0m \u001b[39mprint\u001b[39m(x)\n",
      "\u001b[1;31mNameError\u001b[0m: name 'x' is not defined"
     ]
    }
   ],
   "source": [
    "def yazdır():\n",
    "    x =5\n",
    "    print(x)\n",
    "yazdır()\n",
    "print(x)\n"
   ]
  },
  {
   "attachments": {},
   "cell_type": "markdown",
   "metadata": {},
   "source": [
    "# Lambda \n",
    "    - List Comprehension gibi, tek satırda fonksiyon yazmayı sağlar."
   ]
  },
  {
   "cell_type": "code",
   "execution_count": 24,
   "metadata": {},
   "outputs": [
    {
     "name": "stdout",
     "output_type": "stream",
     "text": [
      "138.0\n",
      "25\n"
     ]
    }
   ],
   "source": [
    "alanHesapla= lambda a,b : print(a*b/2)\n",
    "\n",
    "alanHesapla(23,12)\n",
    "\n",
    "çarp = lambda x : print( x*5)\n",
    "çarp(5)"
   ]
  },
  {
   "cell_type": "code",
   "execution_count": null,
   "metadata": {},
   "outputs": [],
   "source": []
  }
 ],
 "metadata": {
  "kernelspec": {
   "display_name": "Python 3",
   "language": "python",
   "name": "python3"
  },
  "language_info": {
   "codemirror_mode": {
    "name": "ipython",
    "version": 3
   },
   "file_extension": ".py",
   "mimetype": "text/x-python",
   "name": "python",
   "nbconvert_exporter": "python",
   "pygments_lexer": "ipython3",
   "version": "3.11.1"
  },
  "orig_nbformat": 4,
  "vscode": {
   "interpreter": {
    "hash": "5fb8260aea7e14130a9a278daee31d071cfe9d59fd8d33c318cc3bcedd6ea3eb"
   }
  }
 },
 "nbformat": 4,
 "nbformat_minor": 2
}
