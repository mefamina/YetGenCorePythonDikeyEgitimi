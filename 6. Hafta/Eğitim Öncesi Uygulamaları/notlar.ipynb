{
 "cells": [
  {
   "cell_type": "code",
   "execution_count": 1,
   "metadata": {},
   "outputs": [
    {
     "data": {
      "text/plain": [
       "120"
      ]
     },
     "execution_count": 1,
     "metadata": {},
     "output_type": "execute_result"
    }
   ],
   "source": [
    "import math\n",
    "\n",
    "math.factorial(5)"
   ]
  },
  {
   "attachments": {},
   "cell_type": "markdown",
   "metadata": {},
   "source": [
    "# Aşağı Yuvarlama: floor\n"
   ]
  },
  {
   "cell_type": "code",
   "execution_count": 2,
   "metadata": {},
   "outputs": [
    {
     "data": {
      "text/plain": [
       "4"
      ]
     },
     "execution_count": 2,
     "metadata": {},
     "output_type": "execute_result"
    }
   ],
   "source": [
    "math.floor(4.9)"
   ]
  },
  {
   "attachments": {},
   "cell_type": "markdown",
   "metadata": {},
   "source": [
    "# Map Fonksiyonu\n",
    " Parametre olarak bir fonksiyon ve bir liste alır. Parametre olarak aldığı fonksiyona, parametre olarak aldığı listenin her bir elemanını birer parametre olarak gönderir."
   ]
  },
  {
   "cell_type": "code",
   "execution_count": 3,
   "metadata": {},
   "outputs": [
    {
     "name": "stdout",
     "output_type": "stream",
     "text": [
      "[4, 16, 64, 100]\n"
     ]
    }
   ],
   "source": [
    "numbers = [2,4,8,10]\n",
    "\n",
    "def power(x):\n",
    "    return x**2\n",
    "powers = list(map(power,numbers))\n",
    "print(powers)"
   ]
  },
  {
   "cell_type": "code",
   "execution_count": 5,
   "metadata": {},
   "outputs": [
    {
     "data": {
      "text/plain": [
       "[45, 120, 231, 384]"
      ]
     },
     "execution_count": 5,
     "metadata": {},
     "output_type": "execute_result"
    }
   ],
   "source": [
    "list1 = [1,2,3,4]\n",
    "list2 = [5,6,7,8]\n",
    "list3 = [9,10,11,12,13]\n",
    "\n",
    "list(map(lambda x,y,z : x*y*z, list1, list2, list3))"
   ]
  },
  {
   "attachments": {},
   "cell_type": "markdown",
   "metadata": {},
   "source": [
    "# Filter Fonksiyonu\n",
    "Filtreleme yapar. filter(fonsiyon, iterasyon yapılacak veri dizisi)"
   ]
  },
  {
   "cell_type": "code",
   "execution_count": 8,
   "metadata": {},
   "outputs": [
    {
     "data": {
      "text/plain": [
       "[0, 2, 4, 6, 8, 10]"
      ]
     },
     "execution_count": 8,
     "metadata": {},
     "output_type": "execute_result"
    }
   ],
   "source": [
    "list(filter(lambda x: x%2==0, [0,1,2,3,4,5,6,7,8,9,10]))"
   ]
  },
  {
   "cell_type": "code",
   "execution_count": 9,
   "metadata": {},
   "outputs": [
    {
     "data": {
      "text/plain": [
       "[2,\n",
       " 3,\n",
       " 5,\n",
       " 7,\n",
       " 11,\n",
       " 13,\n",
       " 17,\n",
       " 19,\n",
       " 23,\n",
       " 29,\n",
       " 31,\n",
       " 37,\n",
       " 41,\n",
       " 43,\n",
       " 47,\n",
       " 53,\n",
       " 59,\n",
       " 61,\n",
       " 67,\n",
       " 71,\n",
       " 73,\n",
       " 79,\n",
       " 83,\n",
       " 89,\n",
       " 97]"
      ]
     },
     "execution_count": 9,
     "metadata": {},
     "output_type": "execute_result"
    }
   ],
   "source": [
    "def asal_mi(sayi):\n",
    "    i = 2\n",
    "\n",
    "    if sayi == 1:\n",
    "        return False\n",
    "    if sayi ==2:\n",
    "        return True\n",
    "    else:\n",
    "        while i<sayi:\n",
    "            if sayi % i == 0:\n",
    "                return False\n",
    "            i +=1\n",
    "    return True\n",
    "\n",
    "list(filter(asal_mi, range(1,100)))"
   ]
  },
  {
   "attachments": {},
   "cell_type": "markdown",
   "metadata": {},
   "source": [
    "# enumarate Fonksiyonu\n",
    "Numaralandırır."
   ]
  },
  {
   "cell_type": "code",
   "execution_count": 10,
   "metadata": {},
   "outputs": [
    {
     "data": {
      "text/plain": [
       "[(0, 'Elma'), (1, 'Armut'), (2, 'Havuç'), (3, 'Nane')]"
      ]
     },
     "execution_count": 10,
     "metadata": {},
     "output_type": "execute_result"
    }
   ],
   "source": [
    "liste = [\"Elma\", \"Armut\", \"Havuç\", \"Nane\"]\n",
    "list(enumerate(liste))"
   ]
  },
  {
   "attachments": {},
   "cell_type": "markdown",
   "metadata": {},
   "source": [
    "# Try, Except, Else"
   ]
  },
  {
   "cell_type": "code",
   "execution_count": 13,
   "metadata": {},
   "outputs": [
    {
     "name": "stdout",
     "output_type": "stream",
     "text": [
      "14.166666666666666\n",
      "Program çalıştı.\n"
     ]
    }
   ],
   "source": [
    "try:\n",
    "    a = int(input(\"Sayi 1: \"))\n",
    "    b = int(input(\"Sayi 2: \"))\n",
    "    print(a/b)\n",
    "except ValueError:\n",
    "    print(\"Sayı girdiğinizden emin olun.\")\n",
    "\n",
    "except ZeroDivisionError:\n",
    "    print(\"Sayı sıfıra bölünemez.\")\n",
    "else: #Programın çalışması durumunda bu blok da devreye girer.\n",
    "    print(\"Program çalıştı.\")"
   ]
  },
  {
   "cell_type": "code",
   "execution_count": 14,
   "metadata": {},
   "outputs": [
    {
     "name": "stdout",
     "output_type": "stream",
     "text": [
      "Hata oluştu.\n",
      "0\n"
     ]
    }
   ],
   "source": [
    "try:\n",
    "    liste = list(range(100))\n",
    "    print(liste[101])\n",
    "\n",
    "except:\n",
    "    print(\"Hata oluştu.\")\n",
    "\n",
    "finally:\n",
    "    liste.clear()\n",
    "    print(len(liste))\n",
    "    "
   ]
  },
  {
   "cell_type": "code",
   "execution_count": 16,
   "metadata": {},
   "outputs": [
    {
     "ename": "ValueError",
     "evalue": "Lütfen bir metin yapısı giriniz.",
     "output_type": "error",
     "traceback": [
      "\u001b[1;31m---------------------------------------------------------------------------\u001b[0m",
      "\u001b[1;31mValueError\u001b[0m                                Traceback (most recent call last)",
      "Cell \u001b[1;32mIn[16], line 8\u001b[0m\n\u001b[0;32m      5\u001b[0m     \u001b[39melse\u001b[39;00m:\n\u001b[0;32m      6\u001b[0m         \u001b[39mreturn\u001b[39;00m s[::\u001b[39m-\u001b[39m\u001b[39m1\u001b[39m]\n\u001b[1;32m----> 8\u001b[0m tersCevir(\u001b[39m0\u001b[39;49m)\n",
      "Cell \u001b[1;32mIn[16], line 4\u001b[0m, in \u001b[0;36mtersCevir\u001b[1;34m(s)\u001b[0m\n\u001b[0;32m      1\u001b[0m \u001b[39mdef\u001b[39;00m \u001b[39mtersCevir\u001b[39m(s):\n\u001b[0;32m      3\u001b[0m     \u001b[39mif\u001b[39;00m(\u001b[39mtype\u001b[39m(s) \u001b[39m!=\u001b[39m \u001b[39mstr\u001b[39m):\n\u001b[1;32m----> 4\u001b[0m         \u001b[39mraise\u001b[39;00m \u001b[39mValueError\u001b[39;00m(\u001b[39m\"\u001b[39m\u001b[39mLütfen bir metin yapısı giriniz.\u001b[39m\u001b[39m\"\u001b[39m)\n\u001b[0;32m      5\u001b[0m     \u001b[39melse\u001b[39;00m:\n\u001b[0;32m      6\u001b[0m         \u001b[39mreturn\u001b[39;00m s[::\u001b[39m-\u001b[39m\u001b[39m1\u001b[39m]\n",
      "\u001b[1;31mValueError\u001b[0m: Lütfen bir metin yapısı giriniz."
     ]
    }
   ],
   "source": [
    "def tersCevir(s):\n",
    "\n",
    "    if(type(s) != str):\n",
    "        raise ValueError(\"Lütfen bir metin yapısı giriniz.\")\n",
    "    else:\n",
    "        return s[::-1]\n",
    "    \n",
    "tersCevir(0)"
   ]
  }
 ],
 "metadata": {
  "kernelspec": {
   "display_name": "Python 3",
   "language": "python",
   "name": "python3"
  },
  "language_info": {
   "codemirror_mode": {
    "name": "ipython",
    "version": 3
   },
   "file_extension": ".py",
   "mimetype": "text/x-python",
   "name": "python",
   "nbconvert_exporter": "python",
   "pygments_lexer": "ipython3",
   "version": "3.11.1"
  },
  "orig_nbformat": 4,
  "vscode": {
   "interpreter": {
    "hash": "5fb8260aea7e14130a9a278daee31d071cfe9d59fd8d33c318cc3bcedd6ea3eb"
   }
  }
 },
 "nbformat": 4,
 "nbformat_minor": 2
}
