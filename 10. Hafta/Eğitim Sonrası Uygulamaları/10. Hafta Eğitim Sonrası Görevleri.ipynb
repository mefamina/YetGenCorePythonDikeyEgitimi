{
 "cells": [
  {
   "attachments": {},
   "cell_type": "markdown",
   "metadata": {},
   "source": [
    "# Problem 1 "
   ]
  },
  {
   "cell_type": "code",
   "execution_count": 2,
   "metadata": {},
   "outputs": [
    {
     "name": "stdout",
     "output_type": "stream",
     "text": [
      "[[55 81 52 19 34]]\n",
      "[[19 34 52 55 81]]\n"
     ]
    }
   ],
   "source": [
    "# 1 - numpy kütüphanesini import edin\n",
    "import numpy as np\n",
    "# 2 - 5 elemanlı bir numpy array oluşturun\n",
    "a = np.random.randint(0,100, size=(1,5))\n",
    "print(a)\n",
    "# 3 - Oluşturduğunuz arrayi küçükten büyüğe sıralayın.\n",
    "a.sort()\n",
    "print(a)\n"
   ]
  },
  {
   "attachments": {},
   "cell_type": "markdown",
   "metadata": {},
   "source": [
    "# Problem 2"
   ]
  },
  {
   "cell_type": "code",
   "execution_count": 4,
   "metadata": {},
   "outputs": [
    {
     "name": "stdout",
     "output_type": "stream",
     "text": [
      "[10 15 30 45 60]\n",
      "[ 5  6  7  8  9 10 11 12 13 14]\n",
      "[50 55 60 65 70 75 80 85 90 95]\n",
      "[0. 0. 0. 0. 0. 0. 0. 0. 0. 0.]\n",
      "[1. 1. 1. 1. 1. 1. 1. 1. 1. 1.]\n",
      "w= [  0.  25.  50.  75. 100.]\n",
      "e= [[20 11 20 10 12]]\n",
      "r= [-1.         -0.77777778 -0.55555556 -0.33333333 -0.11111111  0.11111111\n",
      "  0.33333333  0.55555556  0.77777778  1.        ]\n",
      "m= [[17 17 43 49 47]\n",
      " [27 28 15 28 48]\n",
      " [44 31 25 14 37]]\n",
      "[ 88  76  83  91 132] sütunların toplamı.\n",
      "[173 146 151] satırların toplamı.\n",
      "49 en büyük\n",
      "14 en küçük\n",
      "31.333333333333332 ortalama\n",
      "3 en büyük değer indeksi\n",
      "[10 11 12 13 14 15 16 17 18 19]\n",
      "[10 11 12]\n",
      "[19 18 17 16 15 14 13 12 11 10]\n",
      "[17 17 43 49 47] m matrisi ilk satır\n",
      "15 ikinci satır üçüncü sütundaki değer\n",
      "[17 27 44] tüm satırlardaki ilk eleman\n",
      "[[ 289  289 1849 2401 2209]\n",
      " [ 729  784  225  784 2304]\n",
      " [1936  961  625  196 1369]] kareler\n",
      "[[False False False False False]\n",
      " [False  True False  True  True]\n",
      " [ True False False  True False]]\n"
     ]
    }
   ],
   "source": [
    "# 1- (10,15,30,45,60) değerlerine sahip numpy dizisi oluşturunuz.\n",
    "x = np.array([10,15,30,45,60])\n",
    "print(x)\n",
    "# 2- (5-15) arasındaki sayılarla numpy dizisi oluşturunuz.\n",
    "y = np.arange(5,15,1)\n",
    "print(y) \n",
    "# 3- (50-100) arasında 5'er 5'er artarak numpy dizisi oluşturunuz.\n",
    "z = np.arange(50,100,5)\n",
    "print(z)\n",
    "# 4- 10 elemanlı sıfırlardan oluşan bir dizi oluşturunuz.\n",
    "q = np.zeros(10)\n",
    "print(q)\n",
    "\n",
    "# 5- 10 elemanlı birlerden oluşan bir dizi oluşturunuz.\n",
    "q1 = np.ones(10)\n",
    "print(q1)\n",
    "# 6- (0-100) arasında eşit aralıklı 5 sayı üretin.\n",
    "w = np.linspace(0,100,5)\n",
    "print(\"w=\", w)\n",
    "# 7- (10-30) arasında rastgele 5 tane tamsayı üretin.\n",
    "e = np.random.randint(10,30, size=(1,5))\n",
    "print(\"e=\",e)\n",
    "# 8- [-1 ile 1] arasında 10 adet sayı üretin.\n",
    "r = np.linspace(-1,1,10)\n",
    "print(\"r=\",r)\n",
    "# 9- (3x5) boyutlarında (10-50) arasında rastgele bir matris oluşturunuz.\n",
    "m = np.random.randint(10,50, size=(3,5))\n",
    "print(\"m=\",m)\n",
    "# 10- Üretilen matrisin satır ve sütun sayıları toplamlarını hesaplayınız ?\n",
    "m_sütun= m.sum(axis=0)\n",
    "print(m_sütun, \"sütunların toplamı.\")\n",
    "m_satır= m.sum(axis=1)\n",
    "print(m_satır, \"satırların toplamı.\")\n",
    "# 11- Üretilen matrisin en büyük, en küçük ve ortalaması nedir ?\n",
    "\\\n",
    "\n",
    "print(m.max(), \"en büyük\")\n",
    "print(m.min(), \"en küçük\")\n",
    "print(m.mean(), \"ortalama\")\n",
    "\n",
    "\n",
    "# 12- Üretilen matrisin en büyük değerinin indeksi kaçtır ?\n",
    "\n",
    "print(m.argmax(), \"en büyük değer indeksi\")\n",
    "\n",
    "# 13- (10-20) arasındaki sayıları içeren dizinin ilk 3 elemanını seçiniz.\n",
    "k = np.arange(10,20,1)\n",
    "print(k)\n",
    "print(k[:3])\n",
    "\n",
    "# 14- Üretilen dizinin elemanlarını tersten yazdırın.\n",
    "print(k[::-1])\n",
    "\n",
    "# 15- Üretilen matrisin ilk satırını seçiniz.\n",
    "print(m[0], \"m matrisi ilk satır\")\n",
    "\n",
    "# 16- Üretilen matrisin 2.satır 3.sütundaki elemanı hangisidir ?\n",
    "print(m[1,2], \"ikinci satır üçüncü sütundaki değer\")\n",
    "\n",
    "# 17- Üretilen matrisin tüm satırlardaki ilk elemanı seçiniz.\n",
    "print(m[:,0], \"tüm satırlardaki ilk eleman\")\n",
    "\n",
    "# 18- Üretilen matrisin her bir elemanının karesini alınız.\n",
    "print(m**2, \"kareler\")\n",
    "# 19- Üretilen matris elemanlarının hangisi pozitif çift sayıdır ? Aralığı (-50,+50) arasında yapınız.\n",
    "print ((m>0) & (m%2==0))"
   ]
  }
 ],
 "metadata": {
  "kernelspec": {
   "display_name": "Python 3",
   "language": "python",
   "name": "python3"
  },
  "language_info": {
   "codemirror_mode": {
    "name": "ipython",
    "version": 3
   },
   "file_extension": ".py",
   "mimetype": "text/x-python",
   "name": "python",
   "nbconvert_exporter": "python",
   "pygments_lexer": "ipython3",
   "version": "3.11.1"
  },
  "orig_nbformat": 4,
  "vscode": {
   "interpreter": {
    "hash": "5026d2d6e7aaaaba093def813beadff083d8733e4a511af01735cbabd156995d"
   }
  }
 },
 "nbformat": 4,
 "nbformat_minor": 2
}
